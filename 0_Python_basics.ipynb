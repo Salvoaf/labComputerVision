{
  "cells": [
    {
      "cell_type": "markdown",
      "metadata": {
        "id": "view-in-github",
        "colab_type": "text"
      },
      "source": [
        "<a href=\"https://colab.research.google.com/github/Salvoaf/labComputerVision/blob/main/0_Python_basics.ipynb\" target=\"_parent\"><img src=\"https://colab.research.google.com/assets/colab-badge.svg\" alt=\"Open In Colab\"/></a>"
      ]
    },
    {
      "cell_type": "markdown",
      "metadata": {
        "pycharm": {
          "name": "#%% md\n"
        },
        "id": "rvNZFFFh-TSC"
      },
      "source": [
        "# Python basics\n",
        "\n",
        "The objective of this exercise is to help you familiarize yourself with the environment that will be used throughout this course.\n",
        "\n",
        "This course will assume that you have at least a basic familiarity with programming in Python. You can consider this exercise a simple test of your Python knowledge. If you manage to complete the tasks, you should have no issues with the programming side of things; otherwise...\n",
        "\n",
        "Exercises will assume that you have Python 3.7+ installed using the Anaconda distribution.\n",
        "\n",
        "Additionally, you need to install the `ipytest` package, which adds magic commands that make it easier to define tests directly inside a notebook using the standard unittest framework. You can install it either using [conda](https://anaconda.org/conda-forge/ipytest) or using pip: `pip install ipytest`. "
      ]
    },
    {
      "cell_type": "code",
      "source": [
        "!pip install ipytest"
      ],
      "metadata": {
        "colab": {
          "base_uri": "https://localhost:8080/"
        },
        "id": "nbT0pLTG-jZb",
        "outputId": "7b045b34-69d2-49bd-ad3c-7afc3c851474"
      },
      "execution_count": null,
      "outputs": [
        {
          "output_type": "stream",
          "name": "stdout",
          "text": [
            "Looking in indexes: https://pypi.org/simple, https://us-python.pkg.dev/colab-wheels/public/simple/\n",
            "Collecting ipytest\n",
            "  Downloading ipytest-0.12.0-py3-none-any.whl (15 kB)\n",
            "Requirement already satisfied: packaging in /usr/local/lib/python3.7/dist-packages (from ipytest) (21.3)\n",
            "Requirement already satisfied: ipython in /usr/local/lib/python3.7/dist-packages (from ipytest) (7.9.0)\n",
            "Collecting pytest>=5.4\n",
            "  Downloading pytest-7.1.3-py3-none-any.whl (298 kB)\n",
            "\u001b[K     |████████████████████████████████| 298 kB 5.2 MB/s \n",
            "\u001b[?25hRequirement already satisfied: attrs>=19.2.0 in /usr/local/lib/python3.7/dist-packages (from pytest>=5.4->ipytest) (22.1.0)\n",
            "Requirement already satisfied: py>=1.8.2 in /usr/local/lib/python3.7/dist-packages (from pytest>=5.4->ipytest) (1.11.0)\n",
            "Collecting iniconfig\n",
            "  Downloading iniconfig-1.1.1-py2.py3-none-any.whl (5.0 kB)\n",
            "Requirement already satisfied: tomli>=1.0.0 in /usr/local/lib/python3.7/dist-packages (from pytest>=5.4->ipytest) (2.0.1)\n",
            "Collecting pluggy<2.0,>=0.12\n",
            "  Downloading pluggy-1.0.0-py2.py3-none-any.whl (13 kB)\n",
            "Requirement already satisfied: importlib-metadata>=0.12 in /usr/local/lib/python3.7/dist-packages (from pytest>=5.4->ipytest) (4.12.0)\n",
            "Requirement already satisfied: typing-extensions>=3.6.4 in /usr/local/lib/python3.7/dist-packages (from importlib-metadata>=0.12->pytest>=5.4->ipytest) (4.1.1)\n",
            "Requirement already satisfied: zipp>=0.5 in /usr/local/lib/python3.7/dist-packages (from importlib-metadata>=0.12->pytest>=5.4->ipytest) (3.8.1)\n",
            "Requirement already satisfied: backcall in /usr/local/lib/python3.7/dist-packages (from ipython->ipytest) (0.2.0)\n",
            "Requirement already satisfied: pygments in /usr/local/lib/python3.7/dist-packages (from ipython->ipytest) (2.6.1)\n",
            "Collecting jedi>=0.10\n",
            "  Downloading jedi-0.18.1-py2.py3-none-any.whl (1.6 MB)\n",
            "\u001b[K     |████████████████████████████████| 1.6 MB 42.8 MB/s \n",
            "\u001b[?25hRequirement already satisfied: decorator in /usr/local/lib/python3.7/dist-packages (from ipython->ipytest) (4.4.2)\n",
            "Requirement already satisfied: traitlets>=4.2 in /usr/local/lib/python3.7/dist-packages (from ipython->ipytest) (5.1.1)\n",
            "Requirement already satisfied: pickleshare in /usr/local/lib/python3.7/dist-packages (from ipython->ipytest) (0.7.5)\n",
            "Requirement already satisfied: pexpect in /usr/local/lib/python3.7/dist-packages (from ipython->ipytest) (4.8.0)\n",
            "Requirement already satisfied: prompt-toolkit<2.1.0,>=2.0.0 in /usr/local/lib/python3.7/dist-packages (from ipython->ipytest) (2.0.10)\n",
            "Requirement already satisfied: setuptools>=18.5 in /usr/local/lib/python3.7/dist-packages (from ipython->ipytest) (57.4.0)\n",
            "Requirement already satisfied: parso<0.9.0,>=0.8.0 in /usr/local/lib/python3.7/dist-packages (from jedi>=0.10->ipython->ipytest) (0.8.3)\n",
            "Requirement already satisfied: wcwidth in /usr/local/lib/python3.7/dist-packages (from prompt-toolkit<2.1.0,>=2.0.0->ipython->ipytest) (0.2.5)\n",
            "Requirement already satisfied: six>=1.9.0 in /usr/local/lib/python3.7/dist-packages (from prompt-toolkit<2.1.0,>=2.0.0->ipython->ipytest) (1.15.0)\n",
            "Requirement already satisfied: pyparsing!=3.0.5,>=2.0.2 in /usr/local/lib/python3.7/dist-packages (from packaging->ipytest) (3.0.9)\n",
            "Requirement already satisfied: ptyprocess>=0.5 in /usr/local/lib/python3.7/dist-packages (from pexpect->ipython->ipytest) (0.7.0)\n",
            "Installing collected packages: pluggy, jedi, iniconfig, pytest, ipytest\n",
            "  Attempting uninstall: pluggy\n",
            "    Found existing installation: pluggy 0.7.1\n",
            "    Uninstalling pluggy-0.7.1:\n",
            "      Successfully uninstalled pluggy-0.7.1\n",
            "  Attempting uninstall: pytest\n",
            "    Found existing installation: pytest 3.6.4\n",
            "    Uninstalling pytest-3.6.4:\n",
            "      Successfully uninstalled pytest-3.6.4\n",
            "Successfully installed iniconfig-1.1.1 ipytest-0.12.0 jedi-0.18.1 pluggy-1.0.0 pytest-7.1.3\n"
          ]
        }
      ]
    },
    {
      "cell_type": "code",
      "execution_count": null,
      "metadata": {
        "pycharm": {
          "name": "#%%\n"
        },
        "id": "uKab3VUu-TSE"
      },
      "outputs": [],
      "source": [
        "from typing import List\n",
        "import ipytest\n",
        "\n",
        "ipytest.autoconfig()"
      ]
    },
    {
      "cell_type": "code",
      "execution_count": null,
      "outputs": [],
      "source": [],
      "metadata": {
        "pycharm": {
          "name": "#%%\n"
        },
        "id": "bmo2mt5D-TSF"
      }
    },
    {
      "cell_type": "markdown",
      "metadata": {
        "pycharm": {
          "name": "#%% md\n"
        },
        "id": "fqYue3hc-TSG"
      },
      "source": [
        "## Task 1\n",
        "\n",
        "Write a method that checks whether a string is a [palindrome](https://en.wikipedia.org/wiki/Palindrome).\n",
        "Testing should be done case-insensitive.\n",
        "(Note: an empty string is also a palindrome, since it \"reads\" the same forward and backward.)"
      ]
    },
    {
      "cell_type": "markdown",
      "metadata": {
        "pycharm": {
          "name": "#%% md\n"
        },
        "id": "iuOexG9g-TSG"
      },
      "source": [
        "### Solution"
      ]
    },
    {
      "cell_type": "code",
      "execution_count": null,
      "metadata": {
        "pycharm": {
          "name": "#%%\n"
        },
        "id": "B3p5hFwl-TSH"
      },
      "outputs": [],
      "source": [
        "def is_palindrome(text: str) -> bool:\n",
        "    \"\"\"Returns whether text is a palindrome or not.\"\"\"\n",
        "    # Your solution here\n",
        "    for i in range(0, int(len(text)/2)):\n",
        "        if text[i].lower() != text[len(text)-i-1].lower():\n",
        "            return False\n",
        "    return True\n",
        "    "
      ]
    },
    {
      "cell_type": "markdown",
      "metadata": {
        "pycharm": {
          "name": "#%% md\n"
        },
        "id": "NsZdWRzP-TSH"
      },
      "source": [
        "Test your implementation."
      ]
    },
    {
      "cell_type": "code",
      "execution_count": null,
      "metadata": {
        "pycharm": {
          "name": "#%%\n"
        },
        "colab": {
          "base_uri": "https://localhost:8080/"
        },
        "id": "arVr9Gcj-TSH",
        "outputId": "32300b81-c6ef-4727-ceee-581d8f96ed12"
      },
      "outputs": [
        {
          "output_type": "stream",
          "name": "stderr",
          "text": [
            "%%run_pytest[clean] and %%run_pytest are deprecated in favor of %%ipytest. %%ipytest will clean tests, evaluate the cell and then run pytest. To disable cleaning, configure ipytest with ipytest.config(clean=False).\n"
          ]
        },
        {
          "output_type": "stream",
          "name": "stdout",
          "text": [
            "\u001b[32m.\u001b[0m\u001b[32m.\u001b[0m\u001b[32m.\u001b[0m\u001b[32m.\u001b[0m\u001b[32m.\u001b[0m\u001b[32m.\u001b[0m\u001b[32m.\u001b[0m\u001b[32m.\u001b[0m\u001b[32m.\u001b[0m\u001b[32m                                                                                    [100%]\u001b[0m\n",
            "\u001b[32m\u001b[32m\u001b[1m9 passed\u001b[0m\u001b[32m in 0.07s\u001b[0m\u001b[0m\n"
          ]
        }
      ],
      "source": [
        "%%run_pytest[clean]\n",
        "\n",
        "def test_empty_string():\n",
        "    assert is_palindrome(\"\")\n",
        "    \n",
        "def test_single_character():\n",
        "    assert is_palindrome(\"a\")\n",
        "\n",
        "def test_same_characters():\n",
        "    assert is_palindrome(\"aa\")\n",
        "    \n",
        "def test_not_palindrome_even():\n",
        "    assert not is_palindrome(\"ab\")\n",
        "\n",
        "def test_not_palindrome_odd():\n",
        "    assert not is_palindrome(\"abc\")\n",
        "    \n",
        "def test_palindrome_even():\n",
        "    assert is_palindrome(\"abba\")\n",
        "    \n",
        "def test_palindrome_odd():\n",
        "    assert is_palindrome(\"aba\")\n",
        "\n",
        "def test_palindrome_even_cased():\n",
        "    assert is_palindrome(\"AbBa\")\n",
        "    \n",
        "def test_palindrome_odd_cased():\n",
        "    assert is_palindrome(\"abA\")"
      ]
    },
    {
      "cell_type": "markdown",
      "metadata": {
        "pycharm": {
          "name": "#%% md\n"
        },
        "id": "ZCvtPuQD-TSI"
      },
      "source": [
        "## Task 2\n",
        "\n",
        "Given a list of strings, return the string that appears most frequently in the list. In case there are multiple such strings, return the one that appeared first in the list. For an empty input list, return a None value."
      ]
    },
    {
      "cell_type": "markdown",
      "metadata": {
        "pycharm": {
          "name": "#%% md\n"
        },
        "id": "m9y1czW--TSI"
      },
      "source": [
        "### Solution"
      ]
    },
    {
      "cell_type": "code",
      "execution_count": null,
      "metadata": {
        "pycharm": {
          "name": "#%%\n"
        },
        "id": "Z3Ajeg_3-TSI"
      },
      "outputs": [],
      "source": [
        "def get_most_frequent_element(lst: List[str]) -> str:\n",
        "    \"\"\"Returns the most frequent element in a list.\"\"\"\n",
        "    # Your solution here \n",
        "    mostFreqNumber = 0\n",
        "    mostFreq = None   \n",
        "    freq = {}\n",
        "    for i in range(0, len(lst)):\n",
        "      freq[lst[i]] = 0\n",
        "    for i in range(0, len(lst)):\n",
        "      freq[lst[i]]= freq[lst[i]] +1 \n",
        "      if freq[lst[i]] > mostFreqNumber:\n",
        "        mostFreqNumber = freq[lst[i]]\n",
        "        mostFreq = lst[i]\n",
        "    return mostFreq\n",
        "    "
      ]
    },
    {
      "cell_type": "markdown",
      "metadata": {
        "pycharm": {
          "name": "#%% md\n"
        },
        "id": "u3VJMVxQ-TSJ"
      },
      "source": [
        "Test your implementation."
      ]
    },
    {
      "cell_type": "code",
      "execution_count": null,
      "metadata": {
        "pycharm": {
          "name": "#%%\n"
        },
        "id": "Ae76PD1e-TSJ",
        "colab": {
          "base_uri": "https://localhost:8080/"
        },
        "outputId": "2f8ff085-1ee3-4398-a180-73d1111d8e12"
      },
      "outputs": [
        {
          "output_type": "stream",
          "name": "stdout",
          "text": [
            "\u001b[32m.\u001b[0m\u001b[32m.\u001b[0m\u001b[32m.\u001b[0m\u001b[32m.\u001b[0m\u001b[32m                                                                                         [100%]\u001b[0m\n",
            "\u001b[32m\u001b[32m\u001b[1m4 passed\u001b[0m\u001b[32m in 0.03s\u001b[0m\u001b[0m\n"
          ]
        },
        {
          "output_type": "stream",
          "name": "stderr",
          "text": [
            "%%run_pytest[clean] and %%run_pytest are deprecated in favor of %%ipytest. %%ipytest will clean tests, evaluate the cell and then run pytest. To disable cleaning, configure ipytest with ipytest.config(clean=False).\n"
          ]
        }
      ],
      "source": [
        "%%run_pytest[clean]\n",
        "\n",
        "def test_empty_list():\n",
        "    assert get_most_frequent_element([]) == None\n",
        "\n",
        "def test_single_element():\n",
        "    assert get_most_frequent_element([\"a\"]) == \"a\"\n",
        "\n",
        "def test_two_elements():\n",
        "    assert get_most_frequent_element([\"a\", \"b\", \"b\"]) == \"b\"\n",
        "\n",
        "def test_ties():\n",
        "    assert get_most_frequent_element([\"a\", \"b\", \"b\", \"c\", \"b\", \"a\", \"d\", \"c\", \"c\"]) == \"b\"    "
      ]
    }
  ],
  "metadata": {
    "kernelspec": {
      "display_name": "Python 3.10.4 ('mircv')",
      "language": "python",
      "name": "python3"
    },
    "language_info": {
      "codemirror_mode": {
        "name": "ipython",
        "version": 3
      },
      "file_extension": ".py",
      "mimetype": "text/x-python",
      "name": "python",
      "nbconvert_exporter": "python",
      "pygments_lexer": "ipython3",
      "version": "3.10.4"
    },
    "vscode": {
      "interpreter": {
        "hash": "6c5e4a7eaa80b8b0cab0ebfd023b62b4fb81ced96acf97d50ef5e35c1384dc27"
      }
    },
    "colab": {
      "provenance": [],
      "collapsed_sections": [],
      "include_colab_link": true
    }
  },
  "nbformat": 4,
  "nbformat_minor": 0
}